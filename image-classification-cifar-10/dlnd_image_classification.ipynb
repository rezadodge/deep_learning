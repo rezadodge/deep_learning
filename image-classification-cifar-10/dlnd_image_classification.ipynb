{
 "cells": [
  {
   "cell_type": "markdown",
   "metadata": {
    "collapsed": true
   },
   "source": [
    "# Image Classification\n",
    "In this project, you'll classify images from the [CIFAR-10 dataset](https://www.cs.toronto.edu/~kriz/cifar.html).  The dataset consists of airplanes, dogs, cats, and other objects. You'll preprocess the images, then train a convolutional neural network on all the samples. The images need to be normalized and the labels need to be one-hot encoded.  You'll get to apply what you learned and build a convolutional, max pooling, dropout, and fully connected layers.  At the end, you'll get to see your neural network's predictions on the sample images.\n",
    "## Get the Data\n",
    "Run the following cell to download the [CIFAR-10 dataset for python](https://www.cs.toronto.edu/~kriz/cifar-10-python.tar.gz)."
   ]
  },
  {
   "cell_type": "code",
   "execution_count": null,
   "metadata": {},
   "outputs": [],
   "source": [
    "\"\"\"\n",
    "DON'T MODIFY ANYTHING IN THIS CELL THAT IS BELOW THIS LINE\n",
    "\"\"\"\n",
    "from urllib.request import urlretrieve\n",
    "from os.path import isfile, isdir\n",
    "from tqdm import tqdm\n",
    "import problem_unittests as tests\n",
    "import tarfile\n",
    "\n",
    "cifar10_dataset_folder_path = 'cifar-10-batches-py'\n",
    "\n",
    "# Use Floyd's cifar-10 dataset if present\n",
    "floyd_cifar10_location = '/cifar/cifar-10-python.tar.gz'\n",
    "if isfile(floyd_cifar10_location):\n",
    "    tar_gz_path = floyd_cifar10_location\n",
    "else:\n",
    "    tar_gz_path = 'cifar-10-python.tar.gz'\n",
    "\n",
    "class DLProgress(tqdm):\n",
    "    last_block = 0\n",
    "\n",
    "    def hook(self, block_num=1, block_size=1, total_size=None):\n",
    "        self.total = total_size\n",
    "        self.update((block_num - self.last_block) * block_size)\n",
    "        self.last_block = block_num\n",
    "\n",
    "if not isfile(tar_gz_path):\n",
    "    with DLProgress(unit='B', unit_scale=True, miniters=1, desc='CIFAR-10 Dataset') as pbar:\n",
    "        urlretrieve(\n",
    "            'https://www.cs.toronto.edu/~kriz/cifar-10-python.tar.gz',\n",
    "            tar_gz_path,\n",
    "            pbar.hook)\n",
    "\n",
    "if not isdir(cifar10_dataset_folder_path):\n",
    "    with tarfile.open(tar_gz_path) as tar:\n",
    "        tar.extractall()\n",
    "        tar.close()\n",
    "\n",
    "\n",
    "tests.test_folder_path(cifar10_dataset_folder_path)"
   ]
  },
  {
   "cell_type": "markdown",
   "metadata": {},
   "source": [
    "## Explore the Data\n",
    "The dataset is broken into batches to prevent your machine from running out of memory.  The CIFAR-10 dataset consists of 5 batches, named `data_batch_1`, `data_batch_2`, etc.. Each batch contains the labels and images that are one of the following:\n",
    "* airplane\n",
    "* automobile\n",
    "* bird\n",
    "* cat\n",
    "* deer\n",
    "* dog\n",
    "* frog\n",
    "* horse\n",
    "* ship\n",
    "* truck\n",
    "\n",
    "Understanding a dataset is part of making predictions on the data.  Play around with the code cell below by changing the `batch_id` and `sample_id`. The `batch_id` is the id for a batch (1-5). The `sample_id` is the id for a image and label pair in the batch.\n",
    "\n",
    "Ask yourself \"What are all possible labels?\", \"What is the range of values for the image data?\", \"Are the labels in order or random?\".  Answers to questions like these will help you preprocess the data and end up with better predictions."
   ]
  },
  {
   "cell_type": "code",
   "execution_count": null,
   "metadata": {},
   "outputs": [],
   "source": [
    "%matplotlib inline\n",
    "%config InlineBackend.figure_format = 'retina'\n",
    "\n",
    "import helper\n",
    "import numpy as np\n",
    "\n",
    "# Explore the dataset\n",
    "batch_id = 1\n",
    "sample_id = 5\n",
    "helper.display_stats(cifar10_dataset_folder_path, batch_id, sample_id)"
   ]
  },
  {
   "cell_type": "markdown",
   "metadata": {},
   "source": [
    "## Implement Preprocess Functions\n",
    "### Normalize\n",
    "In the cell below, implement the `normalize` function to take in image data, `x`, and return it as a normalized Numpy array. The values should be in the range of 0 to 1, inclusive.  The return object should be the same shape as `x`."
   ]
  },
  {
   "cell_type": "code",
   "execution_count": null,
   "metadata": {},
   "outputs": [],
   "source": [
    "def normalize(x):\n",
    "    \"\"\"\n",
    "    Normalize a list of sample image data in the range of 0 to 1\n",
    "    : x: List of image data.  The image shape is (32, 32, 3)\n",
    "    : return: Numpy array of normalize data\n",
    "    \"\"\"\n",
    "    return x / 256\n",
    "\n",
    "\n",
    "\"\"\"\n",
    "DON'T MODIFY ANYTHING IN THIS CELL THAT IS BELOW THIS LINE\n",
    "\"\"\"\n",
    "tests.test_normalize(normalize)"
   ]
  },
  {
   "cell_type": "markdown",
   "metadata": {},
   "source": [
    "### One-hot encode\n",
    "Just like the previous code cell, you'll be implementing a function for preprocessing.  This time, you'll implement the `one_hot_encode` function. The input, `x`, are a list of labels.  Implement the function to return the list of labels as One-Hot encoded Numpy array.  The possible values for labels are 0 to 9. The one-hot encoding function should return the same encoding for each value between each call to `one_hot_encode`.  Make sure to save the map of encodings outside the function.\n",
    "\n",
    "Hint: Don't reinvent the wheel."
   ]
  },
  {
   "cell_type": "code",
   "execution_count": null,
   "metadata": {},
   "outputs": [],
   "source": [
    "from sklearn.preprocessing import LabelBinarizer\n",
    "\n",
    "def one_hot_encode(x):\n",
    "    \"\"\"\n",
    "    One hot encode a list of sample labels. Return a one-hot encoded vector for each label.\n",
    "    : x: List of sample Labels\n",
    "    : return: Numpy array of one-hot encoded labels\n",
    "    \"\"\"\n",
    "    return np.identity(10)[x]\n",
    "\n",
    "\n",
    "\"\"\"\n",
    "DON'T MODIFY ANYTHING IN THIS CELL THAT IS BELOW THIS LINE\n",
    "\"\"\"\n",
    "tests.test_one_hot_encode(one_hot_encode)"
   ]
  },
  {
   "cell_type": "markdown",
   "metadata": {},
   "source": [
    "### Randomize Data\n",
    "As you saw from exploring the data above, the order of the samples are randomized.  It doesn't hurt to randomize it again, but you don't need to for this dataset."
   ]
  },
  {
   "cell_type": "markdown",
   "metadata": {},
   "source": [
    "## Preprocess all the data and save it\n",
    "Running the code cell below will preprocess all the CIFAR-10 data and save it to file. The code below also uses 10% of the training data for validation."
   ]
  },
  {
   "cell_type": "code",
   "execution_count": null,
   "metadata": {
    "collapsed": true
   },
   "outputs": [],
   "source": [
    "\"\"\"\n",
    "DON'T MODIFY ANYTHING IN THIS CELL\n",
    "\"\"\"\n",
    "# Preprocess Training, Validation, and Testing Data\n",
    "helper.preprocess_and_save_data(cifar10_dataset_folder_path, normalize, one_hot_encode)"
   ]
  },
  {
   "cell_type": "markdown",
   "metadata": {},
   "source": [
    "# Check Point\n",
    "This is your first checkpoint.  If you ever decide to come back to this notebook or have to restart the notebook, you can start from here.  The preprocessed data has been saved to disk."
   ]
  },
  {
   "cell_type": "code",
   "execution_count": 1,
   "metadata": {},
   "outputs": [],
   "source": [
    "\"\"\"\n",
    "DON'T MODIFY ANYTHING IN THIS CELL\n",
    "\"\"\"\n",
    "import pickle\n",
    "import problem_unittests as tests\n",
    "import helper\n",
    "\n",
    "# Load the Preprocessed Validation data\n",
    "valid_features, valid_labels = pickle.load(open('preprocess_validation.p', mode='rb'))"
   ]
  },
  {
   "cell_type": "markdown",
   "metadata": {},
   "source": [
    "## Build the network\n",
    "For the neural network, you'll build each layer into a function.  Most of the code you've seen has been outside of functions. To test your code more thoroughly, we require that you put each layer in a function.  This allows us to give you better feedback and test for simple mistakes using our unittests before you submit your project.\n",
    "\n",
    ">**Note:** If you're finding it hard to dedicate enough time for this course each week, we've provided a small shortcut to this part of the project. In the next couple of problems, you'll have the option to use classes from the [TensorFlow Layers](https://www.tensorflow.org/api_docs/python/tf/layers) or [TensorFlow Layers (contrib)](https://www.tensorflow.org/api_guides/python/contrib.layers) packages to build each layer, except the layers you build in the \"Convolutional and Max Pooling Layer\" section.  TF Layers is similar to Keras's and TFLearn's abstraction to layers, so it's easy to pickup.\n",
    "\n",
    ">However, if you would like to get the most out of this course, try to solve all the problems _without_ using anything from the TF Layers packages. You **can** still use classes from other packages that happen to have the same name as ones you find in TF Layers! For example, instead of using the TF Layers version of the `conv2d` class, [tf.layers.conv2d](https://www.tensorflow.org/api_docs/python/tf/layers/conv2d), you would want to use the TF Neural Network version of `conv2d`, [tf.nn.conv2d](https://www.tensorflow.org/api_docs/python/tf/nn/conv2d). \n",
    "\n",
    "Let's begin!\n",
    "\n",
    "### Input\n",
    "The neural network needs to read the image data, one-hot encoded labels, and dropout keep probability. Implement the following functions\n",
    "* Implement `neural_net_image_input`\n",
    " * Return a [TF Placeholder](https://www.tensorflow.org/api_docs/python/tf/placeholder)\n",
    " * Set the shape using `image_shape` with batch size set to `None`.\n",
    " * Name the TensorFlow placeholder \"x\" using the TensorFlow `name` parameter in the [TF Placeholder](https://www.tensorflow.org/api_docs/python/tf/placeholder).\n",
    "* Implement `neural_net_label_input`\n",
    " * Return a [TF Placeholder](https://www.tensorflow.org/api_docs/python/tf/placeholder)\n",
    " * Set the shape using `n_classes` with batch size set to `None`.\n",
    " * Name the TensorFlow placeholder \"y\" using the TensorFlow `name` parameter in the [TF Placeholder](https://www.tensorflow.org/api_docs/python/tf/placeholder).\n",
    "* Implement `neural_net_keep_prob_input`\n",
    " * Return a [TF Placeholder](https://www.tensorflow.org/api_docs/python/tf/placeholder) for dropout keep probability.\n",
    " * Name the TensorFlow placeholder \"keep_prob\" using the TensorFlow `name` parameter in the [TF Placeholder](https://www.tensorflow.org/api_docs/python/tf/placeholder).\n",
    "\n",
    "These names will be used at the end of the project to load your saved model.\n",
    "\n",
    "Note: `None` for shapes in TensorFlow allow for a dynamic size."
   ]
  },
  {
   "cell_type": "code",
   "execution_count": 2,
   "metadata": {
    "collapsed": true
   },
   "outputs": [],
   "source": [
    "import tensorflow as tf\n",
    "from numpy import sqrt\n",
    "from numpy import prod as np_prod"
   ]
  },
  {
   "cell_type": "code",
   "execution_count": 3,
   "metadata": {},
   "outputs": [
    {
     "name": "stdout",
     "output_type": "stream",
     "text": [
      "Image Input Tests Passed.\n",
      "Label Input Tests Passed.\n",
      "Keep Prob Tests Passed.\n"
     ]
    }
   ],
   "source": [
    "def neural_net_image_input(image_shape):\n",
    "    \"\"\"\n",
    "    Return a Tensor for a batch of image input\n",
    "    : image_shape: Shape of the images\n",
    "    : return: Tensor for image input.\n",
    "    \"\"\"\n",
    "    return tf.placeholder(tf.float32, shape=(None,*image_shape), name=\"x\")\n",
    "\n",
    "\n",
    "def neural_net_label_input(n_classes):\n",
    "    \"\"\"\n",
    "    Return a Tensor for a batch of label input\n",
    "    : n_classes: Number of classes\n",
    "    : return: Tensor for label input.\n",
    "    \"\"\"\n",
    "    return tf.placeholder(tf.float32, shape=(None,n_classes), name=\"y\")\n",
    "\n",
    "\n",
    "def neural_net_keep_prob_input():\n",
    "    \"\"\"\n",
    "    Return a Tensor for keep probability\n",
    "    : return: Tensor for keep probability.\n",
    "    \"\"\"\n",
    "    return tf.placeholder(tf.float32, name=\"keep_prob\")\n",
    "\n",
    "\n",
    "\"\"\"\n",
    "DON'T MODIFY ANYTHING IN THIS CELL THAT IS BELOW THIS LINE\n",
    "\"\"\"\n",
    "tf.reset_default_graph()\n",
    "tests.test_nn_image_inputs(neural_net_image_input)\n",
    "tests.test_nn_label_inputs(neural_net_label_input)\n",
    "tests.test_nn_keep_prob_inputs(neural_net_keep_prob_input)"
   ]
  },
  {
   "cell_type": "markdown",
   "metadata": {},
   "source": [
    "### Convolution and Max Pooling Layer\n",
    "Convolution layers have a lot of success with images. For this code cell, you should implement the function `conv2d_maxpool` to apply convolution then max pooling:\n",
    "* Create the weight and bias using `conv_ksize`, `conv_num_outputs` and the shape of `x_tensor`.\n",
    "* Apply a convolution to `x_tensor` using weight and `conv_strides`.\n",
    " * We recommend you use same padding, but you're welcome to use any padding.\n",
    "* Add bias\n",
    "* Add a nonlinear activation to the convolution.\n",
    "* Apply Max Pooling using `pool_ksize` and `pool_strides`.\n",
    " * We recommend you use same padding, but you're welcome to use any padding.\n",
    "\n",
    "**Note:** You **can't** use [TensorFlow Layers](https://www.tensorflow.org/api_docs/python/tf/layers) or [TensorFlow Layers (contrib)](https://www.tensorflow.org/api_guides/python/contrib.layers) for **this** layer, but you can still use TensorFlow's [Neural Network](https://www.tensorflow.org/api_docs/python/tf/nn) package. You may still use the shortcut option for all the **other** layers."
   ]
  },
  {
   "cell_type": "code",
   "execution_count": 4,
   "metadata": {},
   "outputs": [
    {
     "name": "stdout",
     "output_type": "stream",
     "text": [
      "Tests Passed\n"
     ]
    }
   ],
   "source": [
    "def conv2d_maxpool(x_tensor, conv_num_outputs, conv_ksize, conv_strides, pool_ksize, pool_strides):\n",
    "    \"\"\"\n",
    "    Apply convolution then max pooling to x_tensor\n",
    "    :param x_tensor: TensorFlow Tensor\n",
    "    :param conv_num_outputs: Number of outputs for the convolutional layer\n",
    "    :param conv_ksize: kernal size 2-D Tuple for the convolutional layer\n",
    "    :param conv_strides: Stride 2-D Tuple for convolution\n",
    "    :param pool_ksize: kernal size 2-D Tuple for pool\n",
    "    :param pool_strides: Stride 2-D Tuple for pool\n",
    "    : return: A tensor that represents convolution and max pooling of x_tensor\n",
    "    \"\"\"\n",
    "    x_tensor_depth = x_tensor.shape[-1].value   # the depth of input tensor needed for weights or filter tensor\n",
    "    conv_filter_shape = (*conv_ksize, x_tensor_depth, conv_num_outputs)  ## filter or weight tensor shape\n",
    "    conv_ksize_num = np_prod(conv_ksize)\n",
    "    std_half_size1 = 1/2/sqrt(conv_ksize_num*x_tensor_depth)\n",
    "    conv_filter = tf.Variable(tf.truncated_normal(shape=conv_filter_shape,stddev=std_half_size1))\n",
    "    bias = tf.Variable(tf.zeros(conv_num_outputs))\n",
    "    \n",
    "    ## apply the conv2d method from tensorflow\n",
    "    conv_layer = tf.nn.conv2d(x_tensor, conv_filter, strides=(1,*conv_strides,1), padding='SAME')\n",
    "    ## add bias to conv layer\n",
    "    conv_layer = tf.nn.bias_add(conv_layer, bias)\n",
    "    ## apply activation function relu\n",
    "    conv_layer = tf.nn.relu(conv_layer)\n",
    "    \n",
    "    ## apply max_pooling from tensorflow\n",
    "    conv_layer = tf.nn.max_pool(conv_layer,ksize=(1, *pool_ksize, 1),strides=(1,*pool_strides,1),padding='SAME')\n",
    "    \n",
    "    return conv_layer \n",
    "\n",
    "\n",
    "\"\"\"\n",
    "DON'T MODIFY ANYTHING IN THIS CELL THAT IS BELOW THIS LINE\n",
    "\"\"\"\n",
    "tests.test_con_pool(conv2d_maxpool)"
   ]
  },
  {
   "cell_type": "markdown",
   "metadata": {},
   "source": [
    "### Flatten Layer\n",
    "Implement the `flatten` function to change the dimension of `x_tensor` from a 4-D tensor to a 2-D tensor.  The output should be the shape (*Batch Size*, *Flattened Image Size*). Shortcut option: you can use classes from the [TensorFlow Layers](https://www.tensorflow.org/api_docs/python/tf/layers) or [TensorFlow Layers (contrib)](https://www.tensorflow.org/api_guides/python/contrib.layers) packages for this layer. For more of a challenge, only use other TensorFlow packages."
   ]
  },
  {
   "cell_type": "code",
   "execution_count": 5,
   "metadata": {},
   "outputs": [
    {
     "name": "stdout",
     "output_type": "stream",
     "text": [
      "Tests Passed\n"
     ]
    }
   ],
   "source": [
    "def flatten(x_tensor):\n",
    "    \"\"\"\n",
    "    Flatten x_tensor to (Batch Size, Flattened Image Size)\n",
    "    : x_tensor: A tensor of size (Batch Size, ...), where ... are the image dimensions.\n",
    "    : return: A tensor of size (Batch Size, Flattened Image Size).\n",
    "    \"\"\"\n",
    "    flattened_size = x_tensor.shape[1:].num_elements()\n",
    "    return tf.reshape(x_tensor, [-1,flattened_size])\n",
    "\n",
    "\n",
    "\"\"\"\n",
    "DON'T MODIFY ANYTHING IN THIS CELL THAT IS BELOW THIS LINE\n",
    "\"\"\"\n",
    "tests.test_flatten(flatten)"
   ]
  },
  {
   "cell_type": "markdown",
   "metadata": {},
   "source": [
    "### Fully-Connected Layer\n",
    "Implement the `fully_conn` function to apply a fully connected layer to `x_tensor` with the shape (*Batch Size*, *num_outputs*). Shortcut option: you can use classes from the [TensorFlow Layers](https://www.tensorflow.org/api_docs/python/tf/layers) or [TensorFlow Layers (contrib)](https://www.tensorflow.org/api_guides/python/contrib.layers) packages for this layer. For more of a challenge, only use other TensorFlow packages."
   ]
  },
  {
   "cell_type": "code",
   "execution_count": 6,
   "metadata": {},
   "outputs": [
    {
     "name": "stdout",
     "output_type": "stream",
     "text": [
      "Tests Passed\n"
     ]
    }
   ],
   "source": [
    "def fully_conn(x_tensor, num_outputs):\n",
    "    \"\"\"\n",
    "    Apply a fully connected layer to x_tensor using weight and bias\n",
    "    : x_tensor: A 2-D tensor where the first dimension is batch size.\n",
    "    : num_outputs: The number of output that the new tensor should be.\n",
    "    : return: A 2-D tensor where the second dimension is num_outputs.\n",
    "    \"\"\"\n",
    "    input_dim = x_tensor.shape[-1].value  ## the depth of input tensor needed for weights or filter\n",
    "    std_half_size2 = 1/2/sqrt(input_dim)\n",
    "    weights = tf.Variable(tf.truncated_normal(shape=[input_dim, num_outputs], stddev=std_half_size2))\n",
    "    bias = tf.Variable(tf.zeros(num_outputs))\n",
    "    \n",
    "    fully_conn_layer = tf.matmul(x_tensor, weights)\n",
    "    fully_conn_layer = tf.add(fully_conn_layer, bias)\n",
    "    fully_conn_layer = tf.nn.relu(fully_conn_layer)\n",
    "\n",
    "    return fully_conn_layer\n",
    "\n",
    "\n",
    "\"\"\"\n",
    "DON'T MODIFY ANYTHING IN THIS CELL THAT IS BELOW THIS LINE\n",
    "\"\"\"\n",
    "tests.test_fully_conn(fully_conn)"
   ]
  },
  {
   "cell_type": "markdown",
   "metadata": {},
   "source": [
    "### Output Layer\n",
    "Implement the `output` function to apply a fully connected layer to `x_tensor` with the shape (*Batch Size*, *num_outputs*). Shortcut option: you can use classes from the [TensorFlow Layers](https://www.tensorflow.org/api_docs/python/tf/layers) or [TensorFlow Layers (contrib)](https://www.tensorflow.org/api_guides/python/contrib.layers) packages for this layer. For more of a challenge, only use other TensorFlow packages.\n",
    "\n",
    "**Note:** Activation, softmax, or cross entropy should **not** be applied to this."
   ]
  },
  {
   "cell_type": "code",
   "execution_count": 7,
   "metadata": {},
   "outputs": [
    {
     "name": "stdout",
     "output_type": "stream",
     "text": [
      "Tests Passed\n"
     ]
    }
   ],
   "source": [
    "def output(x_tensor, num_outputs):\n",
    "    \"\"\"\n",
    "    Apply a output layer to x_tensor using weight and bias\n",
    "    : x_tensor: A 2-D tensor where the first dimension is batch size.\n",
    "    : num_outputs: The number of output that the new tensor should be.\n",
    "    : return: A 2-D tensor where the second dimension is num_outputs.\n",
    "    \"\"\"\n",
    "    input_dim = x_tensor.shape[-1].value  ## the depth of input tensor needed for weights or filter\n",
    "    std_half_size3 = 1/2/sqrt(input_dim)\n",
    "    weights = tf.Variable(tf.truncated_normal(shape=[input_dim, num_outputs], stddev=std_half_size3))\n",
    "    bias = tf.Variable(tf.zeros(num_outputs))\n",
    "    \n",
    "    output_layer = tf.matmul(x_tensor, weights)\n",
    "    output_layer = tf.add(output_layer, bias)\n",
    "\n",
    "    return output_layer\n",
    "\n",
    "\n",
    "\"\"\"\n",
    "DON'T MODIFY ANYTHING IN THIS CELL THAT IS BELOW THIS LINE\n",
    "\"\"\"\n",
    "tests.test_output(output)"
   ]
  },
  {
   "cell_type": "markdown",
   "metadata": {},
   "source": [
    "### Create Convolutional Model\n",
    "Implement the function `conv_net` to create a convolutional neural network model. The function takes in a batch of images, `x`, and outputs logits.  Use the layers you created above to create this model:\n",
    "\n",
    "* Apply 1, 2, or 3 Convolution and Max Pool layers\n",
    "* Apply a Flatten Layer\n",
    "* Apply 1, 2, or 3 Fully Connected Layers\n",
    "* Apply an Output Layer\n",
    "* Return the output\n",
    "* Apply [TensorFlow's Dropout](https://www.tensorflow.org/api_docs/python/tf/nn/dropout) to one or more layers in the model using `keep_prob`. "
   ]
  },
  {
   "cell_type": "code",
   "execution_count": 8,
   "metadata": {},
   "outputs": [
    {
     "name": "stdout",
     "output_type": "stream",
     "text": [
      "Neural Network Built!\n"
     ]
    }
   ],
   "source": [
    "def conv_net(x, keep_prob):\n",
    "    \"\"\"\n",
    "    Create a convolutional neural network model\n",
    "    : x: Placeholder tensor that holds image data.\n",
    "    : keep_prob: Placeholder tensor that hold dropout keep probability.\n",
    "    : return: Tensor that represents logits\n",
    "    \"\"\"\n",
    "    conv_ksize, conv_strides = [5,5], [1,1]\n",
    "    pool_ksize, pool_strides = [2,2], [2,2]\n",
    "    conv_num_outputs_1 = 16\n",
    "    conv_layer_1 = conv2d_maxpool(x, conv_num_outputs_1, conv_ksize, conv_strides, pool_ksize, pool_strides)\n",
    "    conv_layer_1 = tf.nn.dropout(conv_layer_1, keep_prob)\n",
    "    conv_num_outputs_2 = 32\n",
    "    conv_layer_2 = conv2d_maxpool(conv_layer_1, conv_num_outputs_2, conv_ksize, conv_strides, pool_ksize, pool_strides)\n",
    "    conv_layer_2 = tf.nn.dropout(conv_layer_2, keep_prob)\n",
    "    conv_num_outputs_3 = 64\n",
    "    conv_layer_3 = conv2d_maxpool(conv_layer_2, conv_num_outputs_3, conv_ksize, conv_strides, pool_ksize, pool_strides)\n",
    "    conv_layer_3 = tf.nn.dropout(conv_layer_3, keep_prob)\n",
    "\n",
    "    last_layer_flattened = flatten(conv_layer_3)\n",
    "    \n",
    "    num_outputs_1 = 64\n",
    "    fully_conn_layer_1 = fully_conn(last_layer_flattened, num_outputs_1)\n",
    "    num_outputs_2 = 32\n",
    "    fully_conn_layer_2 = fully_conn(fully_conn_layer_1, num_outputs_1)\n",
    "    \n",
    "    num_classes = 10\n",
    "    output_layer = output(fully_conn_layer_2, num_classes)\n",
    "    \n",
    "    return output_layer\n",
    "\n",
    "\n",
    "\"\"\"\n",
    "DON'T MODIFY ANYTHING IN THIS CELL THAT IS BELOW THIS LINE\n",
    "\"\"\"\n",
    "\n",
    "##############################\n",
    "## Build the Neural Network ##\n",
    "##############################\n",
    "\n",
    "# Remove previous weights, bias, inputs, etc..\n",
    "tf.reset_default_graph()\n",
    "\n",
    "# Inputs\n",
    "x = neural_net_image_input((32, 32, 3))\n",
    "y = neural_net_label_input(10)\n",
    "keep_prob = neural_net_keep_prob_input()\n",
    "\n",
    "# Model\n",
    "logits = conv_net(x, keep_prob)\n",
    "\n",
    "# Name logits Tensor, so that is can be loaded from disk after training\n",
    "logits = tf.identity(logits, name='logits')\n",
    "\n",
    "# Loss and Optimizer\n",
    "cost = tf.reduce_mean(tf.nn.softmax_cross_entropy_with_logits(logits=logits, labels=y))\n",
    "optimizer = tf.train.AdamOptimizer().minimize(cost)\n",
    "\n",
    "# Accuracy\n",
    "correct_pred = tf.equal(tf.argmax(logits, 1), tf.argmax(y, 1))\n",
    "accuracy = tf.reduce_mean(tf.cast(correct_pred, tf.float32), name='accuracy')\n",
    "\n",
    "tests.test_conv_net(conv_net)"
   ]
  },
  {
   "cell_type": "markdown",
   "metadata": {},
   "source": [
    "## Train the Neural Network\n",
    "### Single Optimization\n",
    "Implement the function `train_neural_network` to do a single optimization.  The optimization should use `optimizer` to optimize in `session` with a `feed_dict` of the following:\n",
    "* `x` for image input\n",
    "* `y` for labels\n",
    "* `keep_prob` for keep probability for dropout\n",
    "\n",
    "This function will be called for each batch, so `tf.global_variables_initializer()` has already been called.\n",
    "\n",
    "Note: Nothing needs to be returned. This function is only optimizing the neural network."
   ]
  },
  {
   "cell_type": "code",
   "execution_count": 9,
   "metadata": {},
   "outputs": [
    {
     "name": "stdout",
     "output_type": "stream",
     "text": [
      "Tests Passed\n"
     ]
    }
   ],
   "source": [
    "def train_neural_network(session, optimizer, keep_probability, feature_batch, label_batch):\n",
    "    \"\"\"\n",
    "    Optimize the session on a batch of images and labels\n",
    "    : session: Current TensorFlow session\n",
    "    : optimizer: TensorFlow optimizer function\n",
    "    : keep_probability: keep probability\n",
    "    : feature_batch: Batch of Numpy image data\n",
    "    : label_batch: Batch of Numpy label data\n",
    "    \"\"\"\n",
    "    session.run(optimizer, feed_dict={x: feature_batch, y: label_batch, keep_prob: keep_probability})\n",
    "\n",
    "\n",
    "\"\"\"\n",
    "DON'T MODIFY ANYTHING IN THIS CELL THAT IS BELOW THIS LINE\n",
    "\"\"\"\n",
    "tests.test_train_nn(train_neural_network)"
   ]
  },
  {
   "cell_type": "markdown",
   "metadata": {},
   "source": [
    "### Show Stats\n",
    "Implement the function `print_stats` to print loss and validation accuracy.  Use the global variables `valid_features` and `valid_labels` to calculate validation accuracy.  Use a keep probability of `1.0` to calculate the loss and validation accuracy."
   ]
  },
  {
   "cell_type": "code",
   "execution_count": 10,
   "metadata": {
    "collapsed": true
   },
   "outputs": [],
   "source": [
    "def print_stats(session, feature_batch, label_batch, cost, accuracy):\n",
    "    \"\"\"\n",
    "    Print information about loss and validation accuracy\n",
    "    : session: Current TensorFlow session\n",
    "    : feature_batch: Batch of Numpy image data\n",
    "    : label_batch: Batch of Numpy label data\n",
    "    : cost: TensorFlow cost function\n",
    "    : accuracy: TensorFlow accuracy function\n",
    "    \"\"\"\n",
    "    loss = session.run(cost, feed_dict={x: feature_batch, y: label_batch, keep_prob: 1.0})\n",
    "    accuracy = session.run(accuracy, feed_dict={x: feature_batch, y: label_batch, keep_prob: 1.0})\n",
    "    print(\"Loss: {0:.3f}\\t Accuracy: {1:.1f}%\".format(loss, 100*accuracy))\n",
    "    # accuracy = session.run(accuracy, feed_dict={x: feature_batch, y: label_batch, keep_prob: 1.0})\n",
    "    # print(\"Loss: {0}\\t Accuracy: {1}%\".format(loss, accuracy))"
   ]
  },
  {
   "cell_type": "markdown",
   "metadata": {},
   "source": [
    "### Hyperparameters\n",
    "Tune the following parameters:\n",
    "* Set `epochs` to the number of iterations until the network stops learning or start overfitting\n",
    "* Set `batch_size` to the highest number that your machine has memory for.  Most people set them to common sizes of memory:\n",
    " * 64\n",
    " * 128\n",
    " * 256\n",
    " * ...\n",
    "* Set `keep_probability` to the probability of keeping a node using dropout"
   ]
  },
  {
   "cell_type": "code",
   "execution_count": 11,
   "metadata": {
    "collapsed": true
   },
   "outputs": [],
   "source": [
    "# Hyperparameters\n",
    "epochs = 50\n",
    "batch_size = 512\n",
    "keep_probability = 0.6"
   ]
  },
  {
   "cell_type": "markdown",
   "metadata": {},
   "source": [
    "### Train on a Single CIFAR-10 Batch\n",
    "Instead of training the neural network on all the CIFAR-10 batches of data, let's use a single batch. This should save time while you iterate on the model to get a better accuracy.  Once the final validation accuracy is 50% or greater, run the model on all the data in the next section."
   ]
  },
  {
   "cell_type": "code",
   "execution_count": 12,
   "metadata": {
    "scrolled": true
   },
   "outputs": [
    {
     "name": "stdout",
     "output_type": "stream",
     "text": [
      "Checking the Training on a Single Batch...\n",
      "Epoch  1, CIFAR-10 Batch 1:  Loss: 2.208\t Accuracy: 15.2%\n",
      "Epoch  2, CIFAR-10 Batch 1:  Loss: 2.177\t Accuracy: 19.6%\n",
      "Epoch  3, CIFAR-10 Batch 1:  Loss: 2.074\t Accuracy: 26.0%\n",
      "Epoch  4, CIFAR-10 Batch 1:  Loss: 2.005\t Accuracy: 29.4%\n",
      "Epoch  5, CIFAR-10 Batch 1:  Loss: 1.893\t Accuracy: 32.8%\n",
      "Epoch  6, CIFAR-10 Batch 1:  Loss: 1.850\t Accuracy: 32.4%\n",
      "Epoch  7, CIFAR-10 Batch 1:  Loss: 1.828\t Accuracy: 33.8%\n",
      "Epoch  8, CIFAR-10 Batch 1:  Loss: 1.795\t Accuracy: 36.1%\n",
      "Epoch  9, CIFAR-10 Batch 1:  Loss: 1.785\t Accuracy: 36.5%\n",
      "Epoch 10, CIFAR-10 Batch 1:  Loss: 1.745\t Accuracy: 39.5%\n",
      "Epoch 11, CIFAR-10 Batch 1:  Loss: 1.738\t Accuracy: 42.9%\n",
      "Epoch 12, CIFAR-10 Batch 1:  Loss: 1.711\t Accuracy: 44.9%\n",
      "Epoch 13, CIFAR-10 Batch 1:  Loss: 1.695\t Accuracy: 44.3%\n",
      "Epoch 14, CIFAR-10 Batch 1:  Loss: 1.678\t Accuracy: 44.3%\n",
      "Epoch 15, CIFAR-10 Batch 1:  Loss: 1.668\t Accuracy: 44.9%\n",
      "Epoch 16, CIFAR-10 Batch 1:  Loss: 1.645\t Accuracy: 46.3%\n",
      "Epoch 17, CIFAR-10 Batch 1:  Loss: 1.639\t Accuracy: 43.9%\n",
      "Epoch 18, CIFAR-10 Batch 1:  Loss: 1.622\t Accuracy: 44.9%\n",
      "Epoch 19, CIFAR-10 Batch 1:  Loss: 1.597\t Accuracy: 45.6%\n",
      "Epoch 20, CIFAR-10 Batch 1:  Loss: 1.583\t Accuracy: 46.6%\n",
      "Epoch 21, CIFAR-10 Batch 1:  Loss: 1.575\t Accuracy: 47.3%\n",
      "Epoch 22, CIFAR-10 Batch 1:  Loss: 1.550\t Accuracy: 46.3%\n",
      "Epoch 23, CIFAR-10 Batch 1:  Loss: 1.544\t Accuracy: 47.6%\n",
      "Epoch 24, CIFAR-10 Batch 1:  Loss: 1.553\t Accuracy: 49.0%\n",
      "Epoch 25, CIFAR-10 Batch 1:  Loss: 1.528\t Accuracy: 48.3%\n",
      "Epoch 26, CIFAR-10 Batch 1:  Loss: 1.503\t Accuracy: 48.6%\n",
      "Epoch 27, CIFAR-10 Batch 1:  Loss: 1.487\t Accuracy: 48.3%\n",
      "Epoch 28, CIFAR-10 Batch 1:  Loss: 1.477\t Accuracy: 48.3%\n",
      "Epoch 29, CIFAR-10 Batch 1:  Loss: 1.460\t Accuracy: 49.0%\n",
      "Epoch 30, CIFAR-10 Batch 1:  Loss: 1.448\t Accuracy: 48.3%\n",
      "Epoch 31, CIFAR-10 Batch 1:  Loss: 1.433\t Accuracy: 47.6%\n",
      "Epoch 32, CIFAR-10 Batch 1:  Loss: 1.411\t Accuracy: 48.6%\n",
      "Epoch 33, CIFAR-10 Batch 1:  Loss: 1.392\t Accuracy: 50.0%\n",
      "Epoch 34, CIFAR-10 Batch 1:  Loss: 1.384\t Accuracy: 52.0%\n",
      "Epoch 35, CIFAR-10 Batch 1:  Loss: 1.349\t Accuracy: 51.7%\n",
      "Epoch 36, CIFAR-10 Batch 1:  Loss: 1.352\t Accuracy: 51.0%\n",
      "Epoch 37, CIFAR-10 Batch 1:  Loss: 1.328\t Accuracy: 50.3%\n",
      "Epoch 38, CIFAR-10 Batch 1:  Loss: 1.309\t Accuracy: 51.4%\n",
      "Epoch 39, CIFAR-10 Batch 1:  Loss: 1.286\t Accuracy: 52.7%\n",
      "Epoch 40, CIFAR-10 Batch 1:  Loss: 1.276\t Accuracy: 52.4%\n",
      "Epoch 41, CIFAR-10 Batch 1:  Loss: 1.270\t Accuracy: 53.7%\n",
      "Epoch 42, CIFAR-10 Batch 1:  Loss: 1.264\t Accuracy: 53.4%\n",
      "Epoch 43, CIFAR-10 Batch 1:  Loss: 1.240\t Accuracy: 56.1%\n",
      "Epoch 44, CIFAR-10 Batch 1:  Loss: 1.219\t Accuracy: 54.4%\n",
      "Epoch 45, CIFAR-10 Batch 1:  Loss: 1.200\t Accuracy: 56.4%\n",
      "Epoch 46, CIFAR-10 Batch 1:  Loss: 1.198\t Accuracy: 56.8%\n",
      "Epoch 47, CIFAR-10 Batch 1:  Loss: 1.185\t Accuracy: 58.4%\n",
      "Epoch 48, CIFAR-10 Batch 1:  Loss: 1.179\t Accuracy: 59.5%\n",
      "Epoch 49, CIFAR-10 Batch 1:  Loss: 1.149\t Accuracy: 59.8%\n",
      "Epoch 50, CIFAR-10 Batch 1:  Loss: 1.145\t Accuracy: 61.1%\n"
     ]
    }
   ],
   "source": [
    "\"\"\"\n",
    "DON'T MODIFY ANYTHING IN THIS CELL\n",
    "\"\"\"\n",
    "print('Checking the Training on a Single Batch...')\n",
    "with tf.Session() as sess:\n",
    "    # Initializing the variables\n",
    "    sess.run(tf.global_variables_initializer())\n",
    "    \n",
    "    # Training cycle\n",
    "    for epoch in range(epochs):\n",
    "        batch_i = 1\n",
    "        for batch_features, batch_labels in helper.load_preprocess_training_batch(batch_i, batch_size):\n",
    "            train_neural_network(sess, optimizer, keep_probability, batch_features, batch_labels)\n",
    "        print('Epoch {:>2}, CIFAR-10 Batch {}:  '.format(epoch + 1, batch_i), end='')\n",
    "        print_stats(sess, batch_features, batch_labels, cost, accuracy)"
   ]
  },
  {
   "cell_type": "markdown",
   "metadata": {},
   "source": [
    "### Fully Train the Model\n",
    "Now that you got a good accuracy with a single CIFAR-10 batch, try it with all five batches."
   ]
  },
  {
   "cell_type": "code",
   "execution_count": 13,
   "metadata": {},
   "outputs": [
    {
     "name": "stdout",
     "output_type": "stream",
     "text": [
      "Training...\n",
      "Epoch  1, CIFAR-10 Batch 1:  Loss: 2.252\t Accuracy: 10.5%\n",
      "Epoch  1, CIFAR-10 Batch 2:  Loss: 2.169\t Accuracy: 19.9%\n",
      "Epoch  1, CIFAR-10 Batch 3:  Loss: 2.062\t Accuracy: 23.0%\n",
      "Epoch  1, CIFAR-10 Batch 4:  Loss: 1.926\t Accuracy: 29.7%\n",
      "Epoch  1, CIFAR-10 Batch 5:  Loss: 1.909\t Accuracy: 33.4%\n",
      "Epoch  2, CIFAR-10 Batch 1:  Loss: 1.886\t Accuracy: 34.5%\n",
      "Epoch  2, CIFAR-10 Batch 2:  Loss: 1.778\t Accuracy: 35.1%\n",
      "Epoch  2, CIFAR-10 Batch 3:  Loss: 1.624\t Accuracy: 45.9%\n",
      "Epoch  2, CIFAR-10 Batch 4:  Loss: 1.650\t Accuracy: 38.2%\n",
      "Epoch  2, CIFAR-10 Batch 5:  Loss: 1.730\t Accuracy: 36.1%\n",
      "Epoch  3, CIFAR-10 Batch 1:  Loss: 1.701\t Accuracy: 41.2%\n",
      "Epoch  3, CIFAR-10 Batch 2:  Loss: 1.652\t Accuracy: 40.2%\n",
      "Epoch  3, CIFAR-10 Batch 3:  Loss: 1.475\t Accuracy: 49.7%\n",
      "Epoch  3, CIFAR-10 Batch 4:  Loss: 1.548\t Accuracy: 40.9%\n",
      "Epoch  3, CIFAR-10 Batch 5:  Loss: 1.592\t Accuracy: 45.3%\n",
      "Epoch  4, CIFAR-10 Batch 1:  Loss: 1.584\t Accuracy: 45.9%\n",
      "Epoch  4, CIFAR-10 Batch 2:  Loss: 1.560\t Accuracy: 43.6%\n",
      "Epoch  4, CIFAR-10 Batch 3:  Loss: 1.408\t Accuracy: 50.3%\n",
      "Epoch  4, CIFAR-10 Batch 4:  Loss: 1.455\t Accuracy: 44.9%\n",
      "Epoch  4, CIFAR-10 Batch 5:  Loss: 1.485\t Accuracy: 47.0%\n",
      "Epoch  5, CIFAR-10 Batch 1:  Loss: 1.519\t Accuracy: 48.0%\n",
      "Epoch  5, CIFAR-10 Batch 2:  Loss: 1.475\t Accuracy: 47.3%\n",
      "Epoch  5, CIFAR-10 Batch 3:  Loss: 1.308\t Accuracy: 54.7%\n",
      "Epoch  5, CIFAR-10 Batch 4:  Loss: 1.374\t Accuracy: 46.6%\n",
      "Epoch  5, CIFAR-10 Batch 5:  Loss: 1.398\t Accuracy: 52.4%\n",
      "Epoch  6, CIFAR-10 Batch 1:  Loss: 1.467\t Accuracy: 49.0%\n",
      "Epoch  6, CIFAR-10 Batch 2:  Loss: 1.394\t Accuracy: 50.7%\n",
      "Epoch  6, CIFAR-10 Batch 3:  Loss: 1.266\t Accuracy: 55.1%\n",
      "Epoch  6, CIFAR-10 Batch 4:  Loss: 1.312\t Accuracy: 51.7%\n",
      "Epoch  6, CIFAR-10 Batch 5:  Loss: 1.345\t Accuracy: 53.0%\n",
      "Epoch  7, CIFAR-10 Batch 1:  Loss: 1.422\t Accuracy: 50.3%\n",
      "Epoch  7, CIFAR-10 Batch 2:  Loss: 1.361\t Accuracy: 52.4%\n",
      "Epoch  7, CIFAR-10 Batch 3:  Loss: 1.228\t Accuracy: 57.1%\n",
      "Epoch  7, CIFAR-10 Batch 4:  Loss: 1.262\t Accuracy: 52.0%\n",
      "Epoch  7, CIFAR-10 Batch 5:  Loss: 1.287\t Accuracy: 58.1%\n",
      "Epoch  8, CIFAR-10 Batch 1:  Loss: 1.378\t Accuracy: 51.4%\n",
      "Epoch  8, CIFAR-10 Batch 2:  Loss: 1.317\t Accuracy: 55.7%\n",
      "Epoch  8, CIFAR-10 Batch 3:  Loss: 1.202\t Accuracy: 57.1%\n",
      "Epoch  8, CIFAR-10 Batch 4:  Loss: 1.210\t Accuracy: 56.4%\n",
      "Epoch  8, CIFAR-10 Batch 5:  Loss: 1.240\t Accuracy: 55.7%\n",
      "Epoch  9, CIFAR-10 Batch 1:  Loss: 1.342\t Accuracy: 56.1%\n",
      "Epoch  9, CIFAR-10 Batch 2:  Loss: 1.271\t Accuracy: 57.8%\n",
      "Epoch  9, CIFAR-10 Batch 3:  Loss: 1.163\t Accuracy: 58.1%\n",
      "Epoch  9, CIFAR-10 Batch 4:  Loss: 1.176\t Accuracy: 56.8%\n",
      "Epoch  9, CIFAR-10 Batch 5:  Loss: 1.196\t Accuracy: 56.4%\n",
      "Epoch 10, CIFAR-10 Batch 1:  Loss: 1.289\t Accuracy: 56.4%\n",
      "Epoch 10, CIFAR-10 Batch 2:  Loss: 1.240\t Accuracy: 60.1%\n",
      "Epoch 10, CIFAR-10 Batch 3:  Loss: 1.119\t Accuracy: 60.8%\n",
      "Epoch 10, CIFAR-10 Batch 4:  Loss: 1.130\t Accuracy: 58.4%\n",
      "Epoch 10, CIFAR-10 Batch 5:  Loss: 1.168\t Accuracy: 58.4%\n",
      "Epoch 11, CIFAR-10 Batch 1:  Loss: 1.259\t Accuracy: 59.1%\n",
      "Epoch 11, CIFAR-10 Batch 2:  Loss: 1.235\t Accuracy: 60.5%\n",
      "Epoch 11, CIFAR-10 Batch 3:  Loss: 1.068\t Accuracy: 61.5%\n",
      "Epoch 11, CIFAR-10 Batch 4:  Loss: 1.102\t Accuracy: 62.8%\n",
      "Epoch 11, CIFAR-10 Batch 5:  Loss: 1.125\t Accuracy: 59.8%\n",
      "Epoch 12, CIFAR-10 Batch 1:  Loss: 1.219\t Accuracy: 60.5%\n",
      "Epoch 12, CIFAR-10 Batch 2:  Loss: 1.206\t Accuracy: 61.5%\n",
      "Epoch 12, CIFAR-10 Batch 3:  Loss: 1.059\t Accuracy: 61.5%\n",
      "Epoch 12, CIFAR-10 Batch 4:  Loss: 1.051\t Accuracy: 63.5%\n",
      "Epoch 12, CIFAR-10 Batch 5:  Loss: 1.097\t Accuracy: 63.2%\n",
      "Epoch 13, CIFAR-10 Batch 1:  Loss: 1.194\t Accuracy: 62.2%\n",
      "Epoch 13, CIFAR-10 Batch 2:  Loss: 1.205\t Accuracy: 59.8%\n",
      "Epoch 13, CIFAR-10 Batch 3:  Loss: 1.033\t Accuracy: 62.2%\n",
      "Epoch 13, CIFAR-10 Batch 4:  Loss: 1.027\t Accuracy: 63.5%\n",
      "Epoch 13, CIFAR-10 Batch 5:  Loss: 1.057\t Accuracy: 64.9%\n",
      "Epoch 14, CIFAR-10 Batch 1:  Loss: 1.153\t Accuracy: 60.8%\n",
      "Epoch 14, CIFAR-10 Batch 2:  Loss: 1.142\t Accuracy: 64.9%\n",
      "Epoch 14, CIFAR-10 Batch 3:  Loss: 1.026\t Accuracy: 64.2%\n",
      "Epoch 14, CIFAR-10 Batch 4:  Loss: 1.006\t Accuracy: 65.5%\n",
      "Epoch 14, CIFAR-10 Batch 5:  Loss: 1.024\t Accuracy: 64.9%\n",
      "Epoch 15, CIFAR-10 Batch 1:  Loss: 1.123\t Accuracy: 61.8%\n",
      "Epoch 15, CIFAR-10 Batch 2:  Loss: 1.099\t Accuracy: 62.8%\n",
      "Epoch 15, CIFAR-10 Batch 3:  Loss: 0.974\t Accuracy: 64.9%\n",
      "Epoch 15, CIFAR-10 Batch 4:  Loss: 0.974\t Accuracy: 66.9%\n",
      "Epoch 15, CIFAR-10 Batch 5:  Loss: 0.996\t Accuracy: 65.9%\n",
      "Epoch 16, CIFAR-10 Batch 1:  Loss: 1.111\t Accuracy: 63.5%\n",
      "Epoch 16, CIFAR-10 Batch 2:  Loss: 1.091\t Accuracy: 63.5%\n",
      "Epoch 16, CIFAR-10 Batch 3:  Loss: 0.944\t Accuracy: 65.9%\n",
      "Epoch 16, CIFAR-10 Batch 4:  Loss: 0.953\t Accuracy: 64.5%\n",
      "Epoch 16, CIFAR-10 Batch 5:  Loss: 0.998\t Accuracy: 65.9%\n",
      "Epoch 17, CIFAR-10 Batch 1:  Loss: 1.096\t Accuracy: 63.5%\n",
      "Epoch 17, CIFAR-10 Batch 2:  Loss: 1.056\t Accuracy: 63.9%\n",
      "Epoch 17, CIFAR-10 Batch 3:  Loss: 0.914\t Accuracy: 70.3%\n",
      "Epoch 17, CIFAR-10 Batch 4:  Loss: 0.942\t Accuracy: 68.2%\n",
      "Epoch 17, CIFAR-10 Batch 5:  Loss: 0.960\t Accuracy: 66.9%\n",
      "Epoch 18, CIFAR-10 Batch 1:  Loss: 1.054\t Accuracy: 63.5%\n",
      "Epoch 18, CIFAR-10 Batch 2:  Loss: 1.016\t Accuracy: 64.9%\n",
      "Epoch 18, CIFAR-10 Batch 3:  Loss: 0.911\t Accuracy: 69.6%\n",
      "Epoch 18, CIFAR-10 Batch 4:  Loss: 0.909\t Accuracy: 68.2%\n",
      "Epoch 18, CIFAR-10 Batch 5:  Loss: 0.953\t Accuracy: 66.2%\n",
      "Epoch 19, CIFAR-10 Batch 1:  Loss: 1.005\t Accuracy: 69.3%\n",
      "Epoch 19, CIFAR-10 Batch 2:  Loss: 1.037\t Accuracy: 63.2%\n",
      "Epoch 19, CIFAR-10 Batch 3:  Loss: 0.898\t Accuracy: 70.9%\n",
      "Epoch 19, CIFAR-10 Batch 4:  Loss: 0.888\t Accuracy: 68.9%\n",
      "Epoch 19, CIFAR-10 Batch 5:  Loss: 0.932\t Accuracy: 67.9%\n",
      "Epoch 20, CIFAR-10 Batch 1:  Loss: 0.983\t Accuracy: 69.3%\n",
      "Epoch 20, CIFAR-10 Batch 2:  Loss: 0.974\t Accuracy: 66.9%\n",
      "Epoch 20, CIFAR-10 Batch 3:  Loss: 0.880\t Accuracy: 71.3%\n",
      "Epoch 20, CIFAR-10 Batch 4:  Loss: 0.863\t Accuracy: 70.9%\n",
      "Epoch 20, CIFAR-10 Batch 5:  Loss: 0.903\t Accuracy: 66.2%\n",
      "Epoch 21, CIFAR-10 Batch 1:  Loss: 0.968\t Accuracy: 69.3%\n",
      "Epoch 21, CIFAR-10 Batch 2:  Loss: 0.975\t Accuracy: 65.5%\n",
      "Epoch 21, CIFAR-10 Batch 3:  Loss: 0.852\t Accuracy: 70.9%\n",
      "Epoch 21, CIFAR-10 Batch 4:  Loss: 0.836\t Accuracy: 73.3%\n",
      "Epoch 21, CIFAR-10 Batch 5:  Loss: 0.891\t Accuracy: 69.6%\n",
      "Epoch 22, CIFAR-10 Batch 1:  Loss: 0.961\t Accuracy: 68.2%\n",
      "Epoch 22, CIFAR-10 Batch 2:  Loss: 0.948\t Accuracy: 64.9%\n",
      "Epoch 22, CIFAR-10 Batch 3:  Loss: 0.821\t Accuracy: 73.6%\n",
      "Epoch 22, CIFAR-10 Batch 4:  Loss: 0.821\t Accuracy: 73.0%\n",
      "Epoch 22, CIFAR-10 Batch 5:  Loss: 0.884\t Accuracy: 69.3%\n",
      "Epoch 23, CIFAR-10 Batch 1:  Loss: 0.915\t Accuracy: 72.3%\n",
      "Epoch 23, CIFAR-10 Batch 2:  Loss: 0.907\t Accuracy: 67.6%\n",
      "Epoch 23, CIFAR-10 Batch 3:  Loss: 0.799\t Accuracy: 75.7%\n",
      "Epoch 23, CIFAR-10 Batch 4:  Loss: 0.785\t Accuracy: 74.3%\n",
      "Epoch 23, CIFAR-10 Batch 5:  Loss: 0.840\t Accuracy: 70.6%\n",
      "Epoch 24, CIFAR-10 Batch 1:  Loss: 0.921\t Accuracy: 69.3%\n",
      "Epoch 24, CIFAR-10 Batch 2:  Loss: 0.890\t Accuracy: 70.6%\n",
      "Epoch 24, CIFAR-10 Batch 3:  Loss: 0.786\t Accuracy: 73.0%\n",
      "Epoch 24, CIFAR-10 Batch 4:  Loss: 0.795\t Accuracy: 74.3%\n",
      "Epoch 24, CIFAR-10 Batch 5:  Loss: 0.838\t Accuracy: 72.0%\n",
      "Epoch 25, CIFAR-10 Batch 1:  Loss: 0.888\t Accuracy: 70.9%\n",
      "Epoch 25, CIFAR-10 Batch 2:  Loss: 0.913\t Accuracy: 66.6%\n",
      "Epoch 25, CIFAR-10 Batch 3:  Loss: 0.761\t Accuracy: 75.7%\n",
      "Epoch 25, CIFAR-10 Batch 4:  Loss: 0.754\t Accuracy: 74.7%\n",
      "Epoch 25, CIFAR-10 Batch 5:  Loss: 0.809\t Accuracy: 71.6%\n",
      "Epoch 26, CIFAR-10 Batch 1:  Loss: 0.926\t Accuracy: 70.9%\n",
      "Epoch 26, CIFAR-10 Batch 2:  Loss: 0.860\t Accuracy: 70.6%\n",
      "Epoch 26, CIFAR-10 Batch 3:  Loss: 0.751\t Accuracy: 77.7%\n",
      "Epoch 26, CIFAR-10 Batch 4:  Loss: 0.746\t Accuracy: 75.3%\n",
      "Epoch 26, CIFAR-10 Batch 5:  Loss: 0.814\t Accuracy: 71.6%\n",
      "Epoch 27, CIFAR-10 Batch 1:  Loss: 0.878\t Accuracy: 71.3%\n",
      "Epoch 27, CIFAR-10 Batch 2:  Loss: 0.843\t Accuracy: 69.3%\n",
      "Epoch 27, CIFAR-10 Batch 3:  Loss: 0.760\t Accuracy: 75.0%\n",
      "Epoch 27, CIFAR-10 Batch 4:  Loss: 0.741\t Accuracy: 76.0%\n",
      "Epoch 27, CIFAR-10 Batch 5:  Loss: 0.795\t Accuracy: 72.3%\n",
      "Epoch 28, CIFAR-10 Batch 1:  Loss: 0.825\t Accuracy: 73.0%\n",
      "Epoch 28, CIFAR-10 Batch 2:  Loss: 0.879\t Accuracy: 69.3%\n",
      "Epoch 28, CIFAR-10 Batch 3:  Loss: 0.700\t Accuracy: 78.7%\n",
      "Epoch 28, CIFAR-10 Batch 4:  Loss: 0.750\t Accuracy: 75.7%\n",
      "Epoch 28, CIFAR-10 Batch 5:  Loss: 0.777\t Accuracy: 72.6%\n",
      "Epoch 29, CIFAR-10 Batch 1:  Loss: 0.827\t Accuracy: 73.6%\n"
     ]
    },
    {
     "name": "stdout",
     "output_type": "stream",
     "text": [
      "Epoch 29, CIFAR-10 Batch 2:  Loss: 0.836\t Accuracy: 69.3%\n",
      "Epoch 29, CIFAR-10 Batch 3:  Loss: 0.729\t Accuracy: 77.0%\n",
      "Epoch 29, CIFAR-10 Batch 4:  Loss: 0.694\t Accuracy: 76.7%\n",
      "Epoch 29, CIFAR-10 Batch 5:  Loss: 0.758\t Accuracy: 72.3%\n",
      "Epoch 30, CIFAR-10 Batch 1:  Loss: 0.834\t Accuracy: 74.7%\n",
      "Epoch 30, CIFAR-10 Batch 2:  Loss: 0.812\t Accuracy: 70.6%\n",
      "Epoch 30, CIFAR-10 Batch 3:  Loss: 0.682\t Accuracy: 78.0%\n",
      "Epoch 30, CIFAR-10 Batch 4:  Loss: 0.685\t Accuracy: 76.7%\n",
      "Epoch 30, CIFAR-10 Batch 5:  Loss: 0.755\t Accuracy: 72.6%\n",
      "Epoch 31, CIFAR-10 Batch 1:  Loss: 0.808\t Accuracy: 73.6%\n",
      "Epoch 31, CIFAR-10 Batch 2:  Loss: 0.879\t Accuracy: 69.3%\n",
      "Epoch 31, CIFAR-10 Batch 3:  Loss: 0.688\t Accuracy: 77.4%\n",
      "Epoch 31, CIFAR-10 Batch 4:  Loss: 0.682\t Accuracy: 78.4%\n",
      "Epoch 31, CIFAR-10 Batch 5:  Loss: 0.721\t Accuracy: 75.0%\n",
      "Epoch 32, CIFAR-10 Batch 1:  Loss: 0.794\t Accuracy: 75.7%\n",
      "Epoch 32, CIFAR-10 Batch 2:  Loss: 0.755\t Accuracy: 74.3%\n",
      "Epoch 32, CIFAR-10 Batch 3:  Loss: 0.672\t Accuracy: 78.7%\n",
      "Epoch 32, CIFAR-10 Batch 4:  Loss: 0.684\t Accuracy: 78.0%\n",
      "Epoch 32, CIFAR-10 Batch 5:  Loss: 0.701\t Accuracy: 75.3%\n",
      "Epoch 33, CIFAR-10 Batch 1:  Loss: 0.807\t Accuracy: 74.0%\n",
      "Epoch 33, CIFAR-10 Batch 2:  Loss: 0.742\t Accuracy: 74.3%\n",
      "Epoch 33, CIFAR-10 Batch 3:  Loss: 0.669\t Accuracy: 78.7%\n",
      "Epoch 33, CIFAR-10 Batch 4:  Loss: 0.651\t Accuracy: 79.1%\n",
      "Epoch 33, CIFAR-10 Batch 5:  Loss: 0.714\t Accuracy: 75.0%\n",
      "Epoch 34, CIFAR-10 Batch 1:  Loss: 0.768\t Accuracy: 77.0%\n",
      "Epoch 34, CIFAR-10 Batch 2:  Loss: 0.782\t Accuracy: 72.6%\n",
      "Epoch 34, CIFAR-10 Batch 3:  Loss: 0.654\t Accuracy: 78.4%\n",
      "Epoch 34, CIFAR-10 Batch 4:  Loss: 0.646\t Accuracy: 80.4%\n",
      "Epoch 34, CIFAR-10 Batch 5:  Loss: 0.691\t Accuracy: 77.0%\n",
      "Epoch 35, CIFAR-10 Batch 1:  Loss: 0.760\t Accuracy: 76.4%\n",
      "Epoch 35, CIFAR-10 Batch 2:  Loss: 0.761\t Accuracy: 74.3%\n",
      "Epoch 35, CIFAR-10 Batch 3:  Loss: 0.671\t Accuracy: 79.7%\n",
      "Epoch 35, CIFAR-10 Batch 4:  Loss: 0.635\t Accuracy: 78.4%\n",
      "Epoch 35, CIFAR-10 Batch 5:  Loss: 0.692\t Accuracy: 78.0%\n",
      "Epoch 36, CIFAR-10 Batch 1:  Loss: 0.783\t Accuracy: 73.3%\n",
      "Epoch 36, CIFAR-10 Batch 2:  Loss: 0.814\t Accuracy: 69.9%\n",
      "Epoch 36, CIFAR-10 Batch 3:  Loss: 0.642\t Accuracy: 81.1%\n",
      "Epoch 36, CIFAR-10 Batch 4:  Loss: 0.642\t Accuracy: 80.4%\n",
      "Epoch 36, CIFAR-10 Batch 5:  Loss: 0.662\t Accuracy: 76.7%\n",
      "Epoch 37, CIFAR-10 Batch 1:  Loss: 0.724\t Accuracy: 77.0%\n",
      "Epoch 37, CIFAR-10 Batch 2:  Loss: 0.766\t Accuracy: 70.6%\n",
      "Epoch 37, CIFAR-10 Batch 3:  Loss: 0.638\t Accuracy: 80.4%\n",
      "Epoch 37, CIFAR-10 Batch 4:  Loss: 0.631\t Accuracy: 79.7%\n",
      "Epoch 37, CIFAR-10 Batch 5:  Loss: 0.673\t Accuracy: 75.7%\n",
      "Epoch 38, CIFAR-10 Batch 1:  Loss: 0.718\t Accuracy: 77.7%\n",
      "Epoch 38, CIFAR-10 Batch 2:  Loss: 0.732\t Accuracy: 74.3%\n",
      "Epoch 38, CIFAR-10 Batch 3:  Loss: 0.633\t Accuracy: 79.7%\n",
      "Epoch 38, CIFAR-10 Batch 4:  Loss: 0.632\t Accuracy: 78.4%\n",
      "Epoch 38, CIFAR-10 Batch 5:  Loss: 0.697\t Accuracy: 75.3%\n",
      "Epoch 39, CIFAR-10 Batch 1:  Loss: 0.718\t Accuracy: 76.4%\n",
      "Epoch 39, CIFAR-10 Batch 2:  Loss: 0.743\t Accuracy: 72.3%\n",
      "Epoch 39, CIFAR-10 Batch 3:  Loss: 0.603\t Accuracy: 81.8%\n",
      "Epoch 39, CIFAR-10 Batch 4:  Loss: 0.629\t Accuracy: 78.0%\n",
      "Epoch 39, CIFAR-10 Batch 5:  Loss: 0.663\t Accuracy: 76.7%\n",
      "Epoch 40, CIFAR-10 Batch 1:  Loss: 0.700\t Accuracy: 78.0%\n",
      "Epoch 40, CIFAR-10 Batch 2:  Loss: 0.707\t Accuracy: 73.6%\n",
      "Epoch 40, CIFAR-10 Batch 3:  Loss: 0.609\t Accuracy: 81.1%\n",
      "Epoch 40, CIFAR-10 Batch 4:  Loss: 0.606\t Accuracy: 81.4%\n",
      "Epoch 40, CIFAR-10 Batch 5:  Loss: 0.641\t Accuracy: 76.7%\n",
      "Epoch 41, CIFAR-10 Batch 1:  Loss: 0.703\t Accuracy: 77.4%\n",
      "Epoch 41, CIFAR-10 Batch 2:  Loss: 0.699\t Accuracy: 75.3%\n",
      "Epoch 41, CIFAR-10 Batch 3:  Loss: 0.595\t Accuracy: 82.1%\n",
      "Epoch 41, CIFAR-10 Batch 4:  Loss: 0.622\t Accuracy: 80.1%\n",
      "Epoch 41, CIFAR-10 Batch 5:  Loss: 0.638\t Accuracy: 77.7%\n",
      "Epoch 42, CIFAR-10 Batch 1:  Loss: 0.679\t Accuracy: 77.4%\n",
      "Epoch 42, CIFAR-10 Batch 2:  Loss: 0.720\t Accuracy: 75.7%\n",
      "Epoch 42, CIFAR-10 Batch 3:  Loss: 0.572\t Accuracy: 81.1%\n",
      "Epoch 42, CIFAR-10 Batch 4:  Loss: 0.596\t Accuracy: 79.4%\n",
      "Epoch 42, CIFAR-10 Batch 5:  Loss: 0.645\t Accuracy: 78.0%\n",
      "Epoch 43, CIFAR-10 Batch 1:  Loss: 0.677\t Accuracy: 78.7%\n",
      "Epoch 43, CIFAR-10 Batch 2:  Loss: 0.665\t Accuracy: 77.0%\n",
      "Epoch 43, CIFAR-10 Batch 3:  Loss: 0.623\t Accuracy: 80.7%\n",
      "Epoch 43, CIFAR-10 Batch 4:  Loss: 0.595\t Accuracy: 79.7%\n",
      "Epoch 43, CIFAR-10 Batch 5:  Loss: 0.634\t Accuracy: 78.0%\n",
      "Epoch 44, CIFAR-10 Batch 1:  Loss: 0.693\t Accuracy: 78.7%\n",
      "Epoch 44, CIFAR-10 Batch 2:  Loss: 0.627\t Accuracy: 80.4%\n",
      "Epoch 44, CIFAR-10 Batch 3:  Loss: 0.560\t Accuracy: 82.8%\n",
      "Epoch 44, CIFAR-10 Batch 4:  Loss: 0.580\t Accuracy: 80.7%\n",
      "Epoch 44, CIFAR-10 Batch 5:  Loss: 0.606\t Accuracy: 79.7%\n",
      "Epoch 45, CIFAR-10 Batch 1:  Loss: 0.665\t Accuracy: 79.1%\n",
      "Epoch 45, CIFAR-10 Batch 2:  Loss: 0.651\t Accuracy: 78.4%\n",
      "Epoch 45, CIFAR-10 Batch 3:  Loss: 0.573\t Accuracy: 80.1%\n",
      "Epoch 45, CIFAR-10 Batch 4:  Loss: 0.570\t Accuracy: 81.1%\n",
      "Epoch 45, CIFAR-10 Batch 5:  Loss: 0.649\t Accuracy: 78.4%\n",
      "Epoch 46, CIFAR-10 Batch 1:  Loss: 0.694\t Accuracy: 76.0%\n",
      "Epoch 46, CIFAR-10 Batch 2:  Loss: 0.660\t Accuracy: 78.4%\n",
      "Epoch 46, CIFAR-10 Batch 3:  Loss: 0.566\t Accuracy: 82.4%\n",
      "Epoch 46, CIFAR-10 Batch 4:  Loss: 0.554\t Accuracy: 84.8%\n",
      "Epoch 46, CIFAR-10 Batch 5:  Loss: 0.627\t Accuracy: 79.1%\n",
      "Epoch 47, CIFAR-10 Batch 1:  Loss: 0.697\t Accuracy: 76.7%\n",
      "Epoch 47, CIFAR-10 Batch 2:  Loss: 0.636\t Accuracy: 79.7%\n",
      "Epoch 47, CIFAR-10 Batch 3:  Loss: 0.532\t Accuracy: 83.1%\n",
      "Epoch 47, CIFAR-10 Batch 4:  Loss: 0.560\t Accuracy: 81.4%\n",
      "Epoch 47, CIFAR-10 Batch 5:  Loss: 0.602\t Accuracy: 79.1%\n",
      "Epoch 48, CIFAR-10 Batch 1:  Loss: 0.654\t Accuracy: 78.7%\n",
      "Epoch 48, CIFAR-10 Batch 2:  Loss: 0.623\t Accuracy: 80.7%\n",
      "Epoch 48, CIFAR-10 Batch 3:  Loss: 0.582\t Accuracy: 82.4%\n",
      "Epoch 48, CIFAR-10 Batch 4:  Loss: 0.547\t Accuracy: 83.1%\n",
      "Epoch 48, CIFAR-10 Batch 5:  Loss: 0.620\t Accuracy: 77.7%\n",
      "Epoch 49, CIFAR-10 Batch 1:  Loss: 0.662\t Accuracy: 79.1%\n",
      "Epoch 49, CIFAR-10 Batch 2:  Loss: 0.599\t Accuracy: 80.7%\n",
      "Epoch 49, CIFAR-10 Batch 3:  Loss: 0.544\t Accuracy: 82.8%\n",
      "Epoch 49, CIFAR-10 Batch 4:  Loss: 0.560\t Accuracy: 79.7%\n",
      "Epoch 49, CIFAR-10 Batch 5:  Loss: 0.581\t Accuracy: 79.1%\n",
      "Epoch 50, CIFAR-10 Batch 1:  Loss: 0.652\t Accuracy: 76.0%\n",
      "Epoch 50, CIFAR-10 Batch 2:  Loss: 0.633\t Accuracy: 79.1%\n",
      "Epoch 50, CIFAR-10 Batch 3:  Loss: 0.553\t Accuracy: 83.1%\n",
      "Epoch 50, CIFAR-10 Batch 4:  Loss: 0.542\t Accuracy: 84.8%\n",
      "Epoch 50, CIFAR-10 Batch 5:  Loss: 0.602\t Accuracy: 79.1%\n"
     ]
    }
   ],
   "source": [
    "\"\"\"\n",
    "DON'T MODIFY ANYTHING IN THIS CELL\n",
    "\"\"\"\n",
    "save_model_path = './image_classification'\n",
    "\n",
    "print('Training...')\n",
    "with tf.Session() as sess:\n",
    "    # Initializing the variables\n",
    "    sess.run(tf.global_variables_initializer())\n",
    "    \n",
    "    # Training cycle\n",
    "    for epoch in range(epochs):\n",
    "        # Loop over all batches\n",
    "        n_batches = 5\n",
    "        for batch_i in range(1, n_batches + 1):\n",
    "            for batch_features, batch_labels in helper.load_preprocess_training_batch(batch_i, batch_size):\n",
    "                train_neural_network(sess, optimizer, keep_probability, batch_features, batch_labels)\n",
    "            print('Epoch {:>2}, CIFAR-10 Batch {}:  '.format(epoch + 1, batch_i), end='')\n",
    "            print_stats(sess, batch_features, batch_labels, cost, accuracy)\n",
    "            \n",
    "    # Save Model\n",
    "    saver = tf.train.Saver()\n",
    "    save_path = saver.save(sess, save_model_path)"
   ]
  },
  {
   "cell_type": "markdown",
   "metadata": {},
   "source": [
    "# Checkpoint\n",
    "The model has been saved to disk.\n",
    "## Test Model\n",
    "Test your model against the test dataset.  This will be your final accuracy. You should have an accuracy greater than 50%. If you don't, keep tweaking the model architecture and parameters."
   ]
  },
  {
   "cell_type": "code",
   "execution_count": 14,
   "metadata": {},
   "outputs": [
    {
     "name": "stdout",
     "output_type": "stream",
     "text": [
      "INFO:tensorflow:Restoring parameters from ./image_classification\n",
      "Testing Accuracy: 0.7115234375\n",
      "\n"
     ]
    },
    {
     "data": {
      "image/png": "[encoded data removed]",
      "text/plain": [
       "<matplotlib.figure.Figure at 0x192841b1550>"
      ]
     },
     "metadata": {
      "image/png": {
       "height": 319,
       "width": 355
      }
     },
     "output_type": "display_data"
    }
   ],
   "source": [
    "\"\"\"\n",
    "DON'T MODIFY ANYTHING IN THIS CELL\n",
    "\"\"\"\n",
    "%matplotlib inline\n",
    "%config InlineBackend.figure_format = 'retina'\n",
    "\n",
    "import tensorflow as tf\n",
    "import pickle\n",
    "import helper\n",
    "import random\n",
    "\n",
    "# Set batch size if not already set\n",
    "try:\n",
    "    if batch_size:\n",
    "        pass\n",
    "except NameError:\n",
    "    batch_size = 64\n",
    "\n",
    "save_model_path = './image_classification'\n",
    "n_samples = 4\n",
    "top_n_predictions = 3\n",
    "\n",
    "def test_model():\n",
    "    \"\"\"\n",
    "    Test the saved model against the test dataset\n",
    "    \"\"\"\n",
    "\n",
    "    test_features, test_labels = pickle.load(open('preprocess_test.p', mode='rb'))\n",
    "    loaded_graph = tf.Graph()\n",
    "\n",
    "    with tf.Session(graph=loaded_graph) as sess:\n",
    "        # Load model\n",
    "        loader = tf.train.import_meta_graph(save_model_path + '.meta')\n",
    "        loader.restore(sess, save_model_path)\n",
    "\n",
    "        # Get Tensors from loaded model\n",
    "        loaded_x = loaded_graph.get_tensor_by_name('x:0')\n",
    "        loaded_y = loaded_graph.get_tensor_by_name('y:0')\n",
    "        loaded_keep_prob = loaded_graph.get_tensor_by_name('keep_prob:0')\n",
    "        loaded_logits = loaded_graph.get_tensor_by_name('logits:0')\n",
    "        loaded_acc = loaded_graph.get_tensor_by_name('accuracy:0')\n",
    "        \n",
    "        # Get accuracy in batches for memory limitations\n",
    "        test_batch_acc_total = 0\n",
    "        test_batch_count = 0\n",
    "        \n",
    "        for test_feature_batch, test_label_batch in helper.batch_features_labels(test_features, test_labels, batch_size):\n",
    "            test_batch_acc_total += sess.run(\n",
    "                loaded_acc,\n",
    "                feed_dict={loaded_x: test_feature_batch, loaded_y: test_label_batch, loaded_keep_prob: 1.0})\n",
    "            test_batch_count += 1\n",
    "\n",
    "        print('Testing Accuracy: {}\\n'.format(test_batch_acc_total/test_batch_count))\n",
    "\n",
    "        # Print Random Samples\n",
    "        random_test_features, random_test_labels = tuple(zip(*random.sample(list(zip(test_features, test_labels)), n_samples)))\n",
    "        random_test_predictions = sess.run(\n",
    "            tf.nn.top_k(tf.nn.softmax(loaded_logits), top_n_predictions),\n",
    "            feed_dict={loaded_x: random_test_features, loaded_y: random_test_labels, loaded_keep_prob: 1.0})\n",
    "        helper.display_image_predictions(random_test_features, random_test_labels, random_test_predictions)\n",
    "\n",
    "\n",
    "test_model()"
   ]
  },
  {
   "cell_type": "markdown",
   "metadata": {},
   "source": [
    "## Why 50-80% Accuracy?\n",
    "You might be wondering why you can't get an accuracy any higher. First things first, 50% isn't bad for a simple CNN.  Pure guessing would get you 10% accuracy. However, you might notice people are getting scores [well above 80%](http://rodrigob.github.io/are_we_there_yet/build/classification_datasets_results.html#43494641522d3130).  That's because we haven't taught you all there is to know about neural networks. We still need to cover a few more techniques.\n",
    "## Submitting This Project\n",
    "When submitting this project, make sure to run all the cells before saving the notebook.  Save the notebook file as \"dlnd_image_classification.ipynb\" and save it as a HTML file under \"File\" -> \"Download as\".  Include the \"helper.py\" and \"problem_unittests.py\" files in your submission."
   ]
  }
 ],
 "metadata": {
  "kernelspec": {
   "display_name": "Python 3",
   "language": "python",
   "name": "python3"
  },
  "language_info": {
   "codemirror_mode": {
    "name": "ipython",
    "version": 3
   },
   "file_extension": ".py",
   "mimetype": "text/x-python",
   "name": "python",
   "nbconvert_exporter": "python",
   "pygments_lexer": "ipython3",
   "version": "3.5.4"
  }
 },
 "nbformat": 4,
 "nbformat_minor": 1
}
